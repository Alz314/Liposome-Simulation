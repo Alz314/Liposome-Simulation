{
 "cells": [
  {
   "cell_type": "code",
   "execution_count": 1,
   "metadata": {},
   "outputs": [
    {
     "data": {
      "text/plain": [
       "_ensemble! (generic function with 4 methods)"
      ]
     },
     "execution_count": 1,
     "metadata": {},
     "output_type": "execute_result"
    }
   ],
   "source": [
    "include(\"simulation.jl\")"
   ]
  },
  {
   "cell_type": "code",
   "execution_count": 2,
   "metadata": {},
   "outputs": [],
   "source": [
    "using LsqFit\n",
    "using Plots"
   ]
  },
  {
   "cell_type": "code",
   "execution_count": 3,
   "metadata": {},
   "outputs": [],
   "source": [
    "mutable struct SimulationData\n",
    "    step::Int32\n",
    "    clusters::Int32\n",
    "    size::Vector{Int32}\n",
    "    gyr::Vector{Float64}\n",
    "end\n",
    "\n",
    "mutable struct EnsembleData\n",
    "    mrna_ang::Float64\n",
    "    n_lip::Int32\n",
    "    sim_data::Array{SimulationData}\n",
    "end\n"
   ]
  },
  {
   "cell_type": "code",
   "execution_count": 6,
   "metadata": {},
   "outputs": [
    {
     "name": "stderr",
     "output_type": "stream",
     "text": [
      "┌ Warning: type Main.test_angular_coverage.EnsembleData not present in workspace; interpreting array as Array{Any}\n",
      "└ @ JLD C:\\Users\\alenz\\.julia\\packages\\JLD\\S6t6A\\src\\JLD.jl:515\n",
      "┌ Warning: type Main.test_angular_coverage.EnsembleData not present in workspace; reconstructing\n",
      "└ @ JLD C:\\Users\\alenz\\.julia\\packages\\JLD\\S6t6A\\src\\jld_types.jl:697\n",
      "┌ Warning: type Main.test_angular_coverage.SimulationData not present in workspace; interpreting array as Array{Any}\n",
      "└ @ JLD C:\\Users\\alenz\\.julia\\packages\\JLD\\S6t6A\\src\\JLD.jl:515\n",
      "┌ Warning: type Main.test_angular_coverage.SimulationData not present in workspace; reconstructing\n",
      "└ @ JLD C:\\Users\\alenz\\.julia\\packages\\JLD\\S6t6A\\src\\jld_types.jl:697\n",
      "┌ Warning: type Main.test_angular_coverage.SimulationData not present in workspace; interpreting array as Array{Any}\n",
      "└ @ JLD C:\\Users\\alenz\\.julia\\packages\\JLD\\S6t6A\\src\\JLD.jl:515\n",
      "┌ Warning: type Main.test_angular_coverage.SimulationData not present in workspace; interpreting array as Array{Any}\n",
      "└ @ JLD C:\\Users\\alenz\\.julia\\packages\\JLD\\S6t6A\\src\\JLD.jl:515\n",
      "┌ Warning: type Main.test_angular_coverage.SimulationData not present in workspace; interpreting array as Array{Any}\n",
      "└ @ JLD C:\\Users\\alenz\\.julia\\packages\\JLD\\S6t6A\\src\\JLD.jl:515\n",
      "┌ Warning: type Main.test_angular_coverage.SimulationData not present in workspace; interpreting array as Array{Any}\n",
      "└ @ JLD C:\\Users\\alenz\\.julia\\packages\\JLD\\S6t6A\\src\\JLD.jl:515\n",
      "┌ Warning: type Main.test_angular_coverage.SimulationData not present in workspace; interpreting array as Array{Any}\n",
      "└ @ JLD C:\\Users\\alenz\\.julia\\packages\\JLD\\S6t6A\\src\\JLD.jl:515\n",
      "┌ Warning: type Main.test_angular_coverage.SimulationData not present in workspace; interpreting array as Array{Any}\n",
      "└ @ JLD C:\\Users\\alenz\\.julia\\packages\\JLD\\S6t6A\\src\\JLD.jl:515\n",
      "┌ Warning: type Main.test_angular_coverage.SimulationData not present in workspace; interpreting array as Array{Any}\n",
      "└ @ JLD C:\\Users\\alenz\\.julia\\packages\\JLD\\S6t6A\\src\\JLD.jl:515\n",
      "┌ Warning: type Main.test_angular_coverage.SimulationData not present in workspace; interpreting array as Array{Any}\n",
      "└ @ JLD C:\\Users\\alenz\\.julia\\packages\\JLD\\S6t6A\\src\\JLD.jl:515\n",
      "┌ Warning: type Main.test_angular_coverage.SimulationData not present in workspace; interpreting array as Array{Any}\n",
      "└ @ JLD C:\\Users\\alenz\\.julia\\packages\\JLD\\S6t6A\\src\\JLD.jl:515\n",
      "┌ Warning: type Main.test_angular_coverage.SimulationData not present in workspace; interpreting array as Array{Any}\n",
      "└ @ JLD C:\\Users\\alenz\\.julia\\packages\\JLD\\S6t6A\\src\\JLD.jl:515\n",
      "┌ Warning: type Main.test_angular_coverage.SimulationData not present in workspace; interpreting array as Array{Any}\n",
      "└ @ JLD C:\\Users\\alenz\\.julia\\packages\\JLD\\S6t6A\\src\\JLD.jl:515\n",
      "┌ Warning: type Main.test_angular_coverage.SimulationData not present in workspace; interpreting array as Array{Any}\n",
      "└ @ JLD C:\\Users\\alenz\\.julia\\packages\\JLD\\S6t6A\\src\\JLD.jl:515\n",
      "┌ Warning: type Main.test_angular_coverage.SimulationData not present in workspace; interpreting array as Array{Any}\n",
      "└ @ JLD C:\\Users\\alenz\\.julia\\packages\\JLD\\S6t6A\\src\\JLD.jl:515\n",
      "┌ Warning: type Main.test_angular_coverage.SimulationData not present in workspace; interpreting array as Array{Any}\n",
      "└ @ JLD C:\\Users\\alenz\\.julia\\packages\\JLD\\S6t6A\\src\\JLD.jl:515\n",
      "┌ Warning: type Main.test_angular_coverage.SimulationData not present in workspace; interpreting array as Array{Any}\n",
      "└ @ JLD C:\\Users\\alenz\\.julia\\packages\\JLD\\S6t6A\\src\\JLD.jl:515\n",
      "┌ Warning: type Main.test_angular_coverage.SimulationData not present in workspace; interpreting array as Array{Any}\n",
      "└ @ JLD C:\\Users\\alenz\\.julia\\packages\\JLD\\S6t6A\\src\\JLD.jl:515\n",
      "┌ Warning: type Main.test_angular_coverage.SimulationData not present in workspace; interpreting array as Array{Any}\n",
      "└ @ JLD C:\\Users\\alenz\\.julia\\packages\\JLD\\S6t6A\\src\\JLD.jl:515\n",
      "┌ Warning: type Main.test_angular_coverage.SimulationData not present in workspace; interpreting array as Array{Any}\n",
      "└ @ JLD C:\\Users\\alenz\\.julia\\packages\\JLD\\S6t6A\\src\\JLD.jl:515\n",
      "┌ Warning: type Main.test_angular_coverage.SimulationData not present in workspace; interpreting array as Array{Any}\n",
      "└ @ JLD C:\\Users\\alenz\\.julia\\packages\\JLD\\S6t6A\\src\\JLD.jl:515\n",
      "┌ Warning: type Main.test_angular_coverage.SimulationData not present in workspace; interpreting array as Array{Any}\n",
      "└ @ JLD C:\\Users\\alenz\\.julia\\packages\\JLD\\S6t6A\\src\\JLD.jl:515\n",
      "┌ Warning: type Main.test_angular_coverage.SimulationData not present in workspace; interpreting array as Array{Any}\n",
      "└ @ JLD C:\\Users\\alenz\\.julia\\packages\\JLD\\S6t6A\\src\\JLD.jl:515\n",
      "┌ Warning: type Main.test_angular_coverage.SimulationData not present in workspace; interpreting array as Array{Any}\n",
      "└ @ JLD C:\\Users\\alenz\\.julia\\packages\\JLD\\S6t6A\\src\\JLD.jl:515\n",
      "┌ Warning: type Main.test_angular_coverage.SimulationData not present in workspace; interpreting array as Array{Any}\n",
      "└ @ JLD C:\\Users\\alenz\\.julia\\packages\\JLD\\S6t6A\\src\\JLD.jl:515\n",
      "┌ Warning: type Main.test_angular_coverage.SimulationData not present in workspace; interpreting array as Array{Any}\n",
      "└ @ JLD C:\\Users\\alenz\\.julia\\packages\\JLD\\S6t6A\\src\\JLD.jl:515\n",
      "┌ Warning: type Main.test_angular_coverage.SimulationData not present in workspace; interpreting array as Array{Any}\n",
      "└ @ JLD C:\\Users\\alenz\\.julia\\packages\\JLD\\S6t6A\\src\\JLD.jl:515\n",
      "┌ Warning: type Main.test_angular_coverage.SimulationData not present in workspace; interpreting array as Array{Any}\n",
      "└ @ JLD C:\\Users\\alenz\\.julia\\packages\\JLD\\S6t6A\\src\\JLD.jl:515\n",
      "┌ Warning: type Main.test_angular_coverage.SimulationData not present in workspace; interpreting array as Array{Any}\n",
      "└ @ JLD C:\\Users\\alenz\\.julia\\packages\\JLD\\S6t6A\\src\\JLD.jl:515\n",
      "┌ Warning: type Main.test_angular_coverage.SimulationData not present in workspace; interpreting array as Array{Any}\n",
      "└ @ JLD C:\\Users\\alenz\\.julia\\packages\\JLD\\S6t6A\\src\\JLD.jl:515\n",
      "┌ Warning: type Main.test_angular_coverage.SimulationData not present in workspace; interpreting array as Array{Any}\n",
      "└ @ JLD C:\\Users\\alenz\\.julia\\packages\\JLD\\S6t6A\\src\\JLD.jl:515\n",
      "┌ Warning: type Main.test_angular_coverage.SimulationData not present in workspace; interpreting array as Array{Any}\n",
      "└ @ JLD C:\\Users\\alenz\\.julia\\packages\\JLD\\S6t6A\\src\\JLD.jl:515\n",
      "┌ Warning: type Main.test_angular_coverage.SimulationData not present in workspace; interpreting array as Array{Any}\n",
      "└ @ JLD C:\\Users\\alenz\\.julia\\packages\\JLD\\S6t6A\\src\\JLD.jl:515\n",
      "┌ Warning: type Main.test_angular_coverage.SimulationData not present in workspace; interpreting array as Array{Any}\n",
      "└ @ JLD C:\\Users\\alenz\\.julia\\packages\\JLD\\S6t6A\\src\\JLD.jl:515\n",
      "┌ Warning: type Main.test_angular_coverage.SimulationData not present in workspace; interpreting array as Array{Any}\n",
      "└ @ JLD C:\\Users\\alenz\\.julia\\packages\\JLD\\S6t6A\\src\\JLD.jl:515\n",
      "┌ Warning: type Main.test_angular_coverage.SimulationData not present in workspace; interpreting array as Array{Any}\n",
      "└ @ JLD C:\\Users\\alenz\\.julia\\packages\\JLD\\S6t6A\\src\\JLD.jl:515\n",
      "┌ Warning: type Main.test_angular_coverage.SimulationData not present in workspace; interpreting array as Array{Any}\n",
      "└ @ JLD C:\\Users\\alenz\\.julia\\packages\\JLD\\S6t6A\\src\\JLD.jl:515\n",
      "┌ Warning: type Main.test_angular_coverage.SimulationData not present in workspace; interpreting array as Array{Any}\n",
      "└ @ JLD C:\\Users\\alenz\\.julia\\packages\\JLD\\S6t6A\\src\\JLD.jl:515\n"
     ]
    }
   ],
   "source": [
    "d = load(\"../data/angular_coverage_test.jld\");"
   ]
  },
  {
   "cell_type": "code",
   "execution_count": 7,
   "metadata": {},
   "outputs": [],
   "source": [
    "angs = collect(0:10:360) .* pi ./ 180\n",
    "n_Tests = length(angs)\n",
    "n_lip = 125\n",
    "iter = 20\n",
    "skip = 43\n",
    "n_steps = 1288 # 30 seconds in real time\n",
    "dataset = d[\"data\"];"
   ]
  },
  {
   "cell_type": "code",
   "execution_count": 8,
   "metadata": {},
   "outputs": [],
   "source": [
    "step_vals = collect(1.0:skip:n_steps)\n",
    "tot_lip = iter * n_lip\n",
    "f_T(t, p) = p[1] .* t .+ 1\n",
    "fit_ps = []\n",
    "init_p = [rand()]\n",
    "\n",
    "for test in 1:n_Tests\n",
    "    av_cluster_size_at_step = similar(step_vals)\n",
    "    for step_index in 1:length(step_vals)\n",
    "        data_at_step = dataset[test].sim_data[step_index]\n",
    "        av_cluster_size_at_step[step_index] = tot_lip/(tot_lip - sum(data_at_step.size) + data_at_step.clusters)\n",
    "    end\n",
    "    fit = curve_fit(f_T, step_vals, av_cluster_size_at_step, init_p)\n",
    "    push!(fit_ps, fit.param)\n",
    "end"
   ]
  },
  {
   "cell_type": "code",
   "execution_count": 13,
   "metadata": {},
   "outputs": [
    {
     "data": {
      "text/plain": [
       "\"c:\\\\Users\\\\alenz\\\\JuliaProjects\\\\liposome-aggregation\\\\figures\\\\growth_rate_vs_angular_coverage_blue.png\""
      ]
     },
     "execution_count": 13,
     "metadata": {},
     "output_type": "execute_result"
    }
   ],
   "source": [
    "plot(Int.(round.(angs .* 180 ./ pi)), reduce(hcat, fit_ps)'[:, 1], xlabel = \"Angular Coverage (degrees)\", ylabel = \"Growth Rate\", legend = false, c = :black, lw = 2, dpi = 300)\n",
    "#savefig(joinpath(@__DIR__, \"..\\\\figures\\\\growth_rate_vs_angular_coverage_blue.png\"))"
   ]
  },
  {
   "cell_type": "code",
   "execution_count": null,
   "metadata": {},
   "outputs": [],
   "source": []
  }
 ],
 "metadata": {
  "kernelspec": {
   "display_name": "Julia 1.7.2",
   "language": "julia",
   "name": "julia-1.7"
  },
  "language_info": {
   "file_extension": ".jl",
   "mimetype": "application/julia",
   "name": "julia",
   "version": "1.7.2"
  },
  "orig_nbformat": 4
 },
 "nbformat": 4,
 "nbformat_minor": 2
}
